{
  "nbformat": 4,
  "nbformat_minor": 0,
  "metadata": {
    "colab": {
      "name": "2)TrainCustomYOLOweights.ipynb",
      "provenance": [],
      "collapsed_sections": [],
      "toc_visible": true,
      "authorship_tag": "ABX9TyMvhvIO3NGcKORr968czjk9",
      "include_colab_link": true
    },
    "kernelspec": {
      "name": "python3",
      "display_name": "Python 3"
    },
    "accelerator": "GPU"
  },
  "cells": [
    {
      "cell_type": "markdown",
      "metadata": {
        "id": "view-in-github",
        "colab_type": "text"
      },
      "source": [
        "<a href=\"https://colab.research.google.com/github/Gooogr/YOLO_toolkit/blob/master/2)TrainCustomYOLOweights.ipynb\" target=\"_parent\"><img src=\"https://colab.research.google.com/assets/colab-badge.svg\" alt=\"Open In Colab\"/></a>"
      ]
    },
    {
      "cell_type": "code",
      "metadata": {
        "id": "yxhHHrLg1A8S",
        "colab_type": "code",
        "colab": {}
      },
      "source": [
        " import cv2"
      ],
      "execution_count": 0,
      "outputs": []
    },
    {
      "cell_type": "code",
      "metadata": {
        "id": "gx74SWo7nRbG",
        "colab_type": "code",
        "outputId": "3be03634-45da-4dd2-d4de-7f75bcfba85d",
        "colab": {
          "base_uri": "https://localhost:8080/",
          "height": 312
        }
      },
      "source": [
        "# Enable GPU\n",
        "# Check what we get: K80, P100, K4 or T4.\n",
        "! nvidia-smi"
      ],
      "execution_count": 13,
      "outputs": [
        {
          "output_type": "stream",
          "text": [
            "Thu May 14 16:04:29 2020       \n",
            "+-----------------------------------------------------------------------------+\n",
            "| NVIDIA-SMI 440.82       Driver Version: 418.67       CUDA Version: 10.1     |\n",
            "|-------------------------------+----------------------+----------------------+\n",
            "| GPU  Name        Persistence-M| Bus-Id        Disp.A | Volatile Uncorr. ECC |\n",
            "| Fan  Temp  Perf  Pwr:Usage/Cap|         Memory-Usage | GPU-Util  Compute M. |\n",
            "|===============================+======================+======================|\n",
            "|   0  Tesla K80           Off  | 00000000:00:04.0 Off |                    0 |\n",
            "| N/A   34C    P8    28W / 149W |      0MiB / 11441MiB |      0%      Default |\n",
            "+-------------------------------+----------------------+----------------------+\n",
            "                                                                               \n",
            "+-----------------------------------------------------------------------------+\n",
            "| Processes:                                                       GPU Memory |\n",
            "|  GPU       PID   Type   Process name                             Usage      |\n",
            "|=============================================================================|\n",
            "|  No running processes found                                                 |\n",
            "+-----------------------------------------------------------------------------+\n"
          ],
          "name": "stdout"
        }
      ]
    },
    {
      "cell_type": "code",
      "metadata": {
        "id": "pmt2bWugAk7g",
        "colab_type": "code",
        "outputId": "9ee25536-fd61-4962-db94-142c8501d253",
        "colab": {
          "base_uri": "https://localhost:8080/",
          "height": 72
        }
      },
      "source": [
        "# mount google disk\n",
        "from google.colab import drive\n",
        "drive.mount('/content/gdrive')\n",
        "\n",
        "# create a symbolic sub-link to avoid 'space' problem\n",
        "!ln -s /content/gdrive/My\\ Drive/colab_notebooks/ /mydrive"
      ],
      "execution_count": 14,
      "outputs": [
        {
          "output_type": "stream",
          "text": [
            "Drive already mounted at /content/gdrive; to attempt to forcibly remount, call drive.mount(\"/content/gdrive\", force_remount=True).\n",
            "ln: failed to create symbolic link '/mydrive/colab_notebooks': Operation not supported\n"
          ],
          "name": "stdout"
        }
      ]
    },
    {
      "cell_type": "markdown",
      "metadata": {
        "id": "lMv3KtBbii0U",
        "colab_type": "text"
      },
      "source": [
        "#### DarkNet preparations"
      ]
    },
    {
      "cell_type": "code",
      "metadata": {
        "id": "9aNHzCxyAmFA",
        "colab_type": "code",
        "outputId": "a80fe751-d5d3-405c-f23d-ddc51c241770",
        "colab": {
          "base_uri": "https://localhost:8080/",
          "height": 34
        }
      },
      "source": [
        "% cd /mydrive/YOLO_toolkit"
      ],
      "execution_count": 15,
      "outputs": [
        {
          "output_type": "stream",
          "text": [
            "/content/gdrive/My Drive/colab_notebooks/YOLO_toolkit\n"
          ],
          "name": "stdout"
        }
      ]
    },
    {
      "cell_type": "code",
      "metadata": {
        "id": "h5G0GVLEIahq",
        "colab_type": "code",
        "colab": {}
      },
      "source": [
        "def make_darknet():\n",
        "  '''\n",
        "  Run this function if darknet wasn`t setted up your root project folder\n",
        "  '''\n",
        "  # Clone and  make darknet in My Drive folder. We should prepare all config files there befory copy them to tmp\n",
        "  ! git clone https://github.com/pjreddie/darknet\n",
        "\n",
        "  # Enable GPU learning\n",
        "  %cd darknet\n",
        "  !sed -i 's/OPENCV=0/OPENCV=1/' Makefile\n",
        "  !sed -i 's/GPU=0/GPU=1/' Makefile\n",
        "  !sed -i 's/CUDNN=0/CUDNN=1/' Makefile\n",
        "\n",
        "  # verify CUDA\n",
        "  !/usr/local/cuda/bin/nvcc --version\n",
        "\n",
        "  ! make\n",
        "\n",
        "  # Download pre-trainded darknet model weights\n",
        "  ! wget https://pjreddie.com/media/files/darknet53.conv.74\n",
        "\n",
        "  # Download pre-trained tiny yolo weights for further extraction\n",
        "  ! wget https://pjreddie.com/media/files/yolov3-tiny.weights"
      ],
      "execution_count": 0,
      "outputs": []
    },
    {
      "cell_type": "code",
      "metadata": {
        "id": "JZCCkTBQJEl-",
        "colab_type": "code",
        "colab": {}
      },
      "source": [
        "## Uncomment to make absense darknet from scratch \n",
        "# make_darknet()"
      ],
      "execution_count": 0,
      "outputs": []
    },
    {
      "cell_type": "markdown",
      "metadata": {
        "id": "1e4BIJR0HPPc",
        "colab_type": "text"
      },
      "source": [
        "Also you can edit some code in examples/detector.c. For example change saving weights rules:\n",
        "\n",
        "Line 139\n",
        "```\n",
        "if(i%10000==0 || (i < 1000 && i%100 == 0)){ \n",
        "  \n",
        "if(i%1000==0 || (i < 2000 && i%200 == 0)){ \n",
        "```\n",
        "\n",
        "Don't forget to ```! make``` darknet after that again."
      ]
    },
    {
      "cell_type": "code",
      "metadata": {
        "id": "He7y5Nl8H18-",
        "colab_type": "code",
        "outputId": "aab442f0-4a46-46bf-b5a0-524a0a4428de",
        "colab": {
          "base_uri": "https://localhost:8080/",
          "height": 34
        }
      },
      "source": [
        "# Create empty directiries for saving weights during the training\n",
        "! mkdir /mydrive/YOLO_toolkit/yolo_weights\n"
      ],
      "execution_count": 18,
      "outputs": [
        {
          "output_type": "stream",
          "text": [
            "mkdir: cannot create directory ‘/mydrive/YOLO_toolkit/yolo_weights’: File exists\n"
          ],
          "name": "stdout"
        }
      ]
    },
    {
      "cell_type": "code",
      "metadata": {
        "id": "5Gqql8HbVf7g",
        "colab_type": "code",
        "outputId": "2a51b410-443e-4eab-9ad9-c16d1eaa6253",
        "colab": {
          "base_uri": "https://localhost:8080/",
          "height": 34
        }
      },
      "source": [
        "# Create train and test(validate) txt files. Split ratio will be 0.1\n",
        "% cd /mydrive/YOLO_toolkit/\n",
        "! python3 splitTrainAndTest.py /mydrive/YOLO_toolkit/Dataset/"
      ],
      "execution_count": 19,
      "outputs": [
        {
          "output_type": "stream",
          "text": [
            "/content/gdrive/My Drive/colab_notebooks/YOLO_toolkit\n"
          ],
          "name": "stdout"
        }
      ]
    },
    {
      "cell_type": "code",
      "metadata": {
        "id": "xiHsDsdnesUY",
        "colab_type": "code",
        "outputId": "f3f09627-2fbb-4b2a-8aba-1f762adba6a2",
        "colab": {
          "base_uri": "https://localhost:8080/",
          "height": 156
        }
      },
      "source": [
        "! ls /mydrive/YOLO_toolkit"
      ],
      "execution_count": 20,
      "outputs": [
        {
          "output_type": "stream",
          "text": [
            "'1)OpenImagesV4Loader.ipynb'\t   temp_train.log\n",
            "'2)TrainCustomYOLOweights.ipynb'   test_images\n",
            "'Combine datasets.ipynb'\t   test.txt\n",
            " darknet\t\t\t  'Train custom YOLO weights.ipynb'\n",
            " darknet_files\t\t\t   train.txt\n",
            " Dataset\t\t\t   VOC2YOLODatasetConverter.py\n",
            " OIDv4_ToolKit\t\t\t   yolo_weights\n",
            " splitTrainAndTest.py\n"
          ],
          "name": "stdout"
        }
      ]
    },
    {
      "cell_type": "markdown",
      "metadata": {
        "id": "cndlT_fRpjBO",
        "colab_type": "text"
      },
      "source": [
        "Now we have to edit some files. Go to YOLO_toolkit/darknet_files\n",
        "\n",
        "> .cfg files: yolov3_train.cfg/yolov3_predict.cfg or yolov3tiny_train.cfg/yolov3tiny_predict.cfg\n",
        "How to configure them:\n",
        "\n",
        "* Comment/uncomment train/test part for specifying batch and subdivisions parameters\n",
        "* Minimum *maxbatches* = number_of_your_classes * 2000. Of course you can use a bigger values\n",
        "* *steps* = *maxbatches* * 0.8, *maxbatches* * 0.9\n",
        "* *classes* = number_of_your_classes\n",
        "* *filters* = 3 * (*classes*+5)\n",
        "\n",
        "> obj.names\n",
        "\n",
        "Write labels in the same way as in  the classes.txt file. One class - one line. If you make a mistake in the order of the labels, the algorithm will work, but will incorrectly name the detected objects.\n",
        "\n",
        "> yolo.data\n",
        "\n",
        "Specify classes amount. Check pathes to other files but they should be right by default:<br>\n",
        "valid  = /mydrive/YOLO_toolkit/test.txt<br>\n",
        "names = /mydrive/YOLO_toolkit/obj.names<br>\n",
        "backup = /mydrive/YOLO_toolkit/yolo_weights<br>\n",
        "train  = /mydrive/YOLO_toolkit/train.txt<br>"
      ]
    },
    {
      "cell_type": "code",
      "metadata": {
        "id": "f7iQMRD238tW",
        "colab_type": "code",
        "outputId": "cf7363d6-edc2-475c-845e-08aab3532b21",
        "colab": {
          "base_uri": "https://localhost:8080/",
          "height": 156
        }
      },
      "source": [
        "! ls"
      ],
      "execution_count": 21,
      "outputs": [
        {
          "output_type": "stream",
          "text": [
            "'1)OpenImagesV4Loader.ipynb'\t   temp_train.log\n",
            "'2)TrainCustomYOLOweights.ipynb'   test_images\n",
            "'Combine datasets.ipynb'\t   test.txt\n",
            " darknet\t\t\t  'Train custom YOLO weights.ipynb'\n",
            " darknet_files\t\t\t   train.txt\n",
            " Dataset\t\t\t   VOC2YOLODatasetConverter.py\n",
            " OIDv4_ToolKit\t\t\t   yolo_weights\n",
            " splitTrainAndTest.py\n"
          ],
          "name": "stdout"
        }
      ]
    },
    {
      "cell_type": "code",
      "metadata": {
        "id": "wTHHqRR1J6S4",
        "colab_type": "code",
        "outputId": "facf9462-0ee5-4413-8055-79183d55f422",
        "colab": {
          "base_uri": "https://localhost:8080/",
          "height": 52
        }
      },
      "source": [
        "! cat darknet_files/obj.names"
      ],
      "execution_count": 25,
      "outputs": [
        {
          "output_type": "stream",
          "text": [
            "Human face\n",
            "Human hand\n"
          ],
          "name": "stdout"
        }
      ]
    },
    {
      "cell_type": "code",
      "metadata": {
        "id": "vnkODaz3WId-",
        "colab_type": "code",
        "outputId": "22419b0c-7147-48f4-ef33-af776feeb665",
        "colab": {
          "base_uri": "https://localhost:8080/",
          "height": 121
        }
      },
      "source": [
        "! cat darknet_files/yolo.data"
      ],
      "execution_count": 27,
      "outputs": [
        {
          "output_type": "stream",
          "text": [
            "classes = 2\n",
            "valid  = /mydrive/YOLO_toolkit/test.txt\n",
            "names = /mydrive/YOLO_toolkit/darknet_files/obj.names\n",
            "backup = /mydrive/YOLO_toolkit/yolo_weights\n",
            "train  = /mydrive/YOLO_toolkit/train.txt\n",
            "\n"
          ],
          "name": "stdout"
        }
      ]
    },
    {
      "cell_type": "code",
      "metadata": {
        "id": "0nKAIxh_Rgg0",
        "colab_type": "code",
        "outputId": "aa612c64-e3b9-42f9-d4ce-26e5350b9a4a",
        "colab": {
          "base_uri": "https://localhost:8080/",
          "height": 573
        }
      },
      "source": [
        "# Get tiny yolo convolutions layers weights\n",
        "% cd /mydrive/YOLO_toolkit/darknet\n",
        "! chmod 777 ./darknet\n",
        "! ./darknet partial /mydrive/YOLO_toolkit/darknet_files/yolov3tiny_train.cfg yolov3-tiny.weights yolov3-tiny.conv.15 15"
      ],
      "execution_count": 28,
      "outputs": [
        {
          "output_type": "stream",
          "text": [
            "/content/gdrive/My Drive/colab_notebooks/YOLO_toolkit/darknet\n",
            "layer     filters    size              input                output\n",
            "    0 conv     16  3 x 3 / 1   416 x 416 x   3   ->   416 x 416 x  16  0.150 BFLOPs\n",
            "    1 max          2 x 2 / 2   416 x 416 x  16   ->   208 x 208 x  16\n",
            "    2 conv     32  3 x 3 / 1   208 x 208 x  16   ->   208 x 208 x  32  0.399 BFLOPs\n",
            "    3 max          2 x 2 / 2   208 x 208 x  32   ->   104 x 104 x  32\n",
            "    4 conv     64  3 x 3 / 1   104 x 104 x  32   ->   104 x 104 x  64  0.399 BFLOPs\n",
            "    5 max          2 x 2 / 2   104 x 104 x  64   ->    52 x  52 x  64\n",
            "    6 conv    128  3 x 3 / 1    52 x  52 x  64   ->    52 x  52 x 128  0.399 BFLOPs\n",
            "    7 max          2 x 2 / 2    52 x  52 x 128   ->    26 x  26 x 128\n",
            "    8 conv    256  3 x 3 / 1    26 x  26 x 128   ->    26 x  26 x 256  0.399 BFLOPs\n",
            "    9 max          2 x 2 / 2    26 x  26 x 256   ->    13 x  13 x 256\n",
            "   10 conv    512  3 x 3 / 1    13 x  13 x 256   ->    13 x  13 x 512  0.399 BFLOPs\n",
            "   11 max          2 x 2 / 1    13 x  13 x 512   ->    13 x  13 x 512\n",
            "   12 conv    512  3 x 3 / 1    13 x  13 x 512   ->    13 x  13 x 512  0.797 BFLOPs\n",
            "   13 res   10                  13 x  13 x 512   ->    13 x  13 x 512\n",
            "   14 conv    256  1 x 1 / 1    13 x  13 x 512   ->    13 x  13 x 256  0.044 BFLOPs\n",
            "   15 conv    256  3 x 3 / 1    13 x  13 x 256   ->    13 x  13 x 256  0.199 BFLOPs\n",
            "   16 res   14                  13 x  13 x 256   ->    13 x  13 x 256\n",
            "   17 conv     24  1 x 1 / 1    13 x  13 x 256   ->    13 x  13 x  24  0.002 BFLOPs\n",
            "   18 yolo\n",
            "   19 route  15\n",
            "   20 conv    128  1 x 1 / 1    13 x  13 x 256   ->    13 x  13 x 128  0.011 BFLOPs\n",
            "   21 upsample            2x    13 x  13 x 128   ->    26 x  26 x 128\n",
            "   22 res    8                  26 x  26 x 256   ->    26 x  26 x 128\n",
            "   23 conv    128  3 x 3 / 1    26 x  26 x 128   ->    26 x  26 x 128  0.199 BFLOPs\n",
            "   24 res   21                  26 x  26 x 128   ->    26 x  26 x 128\n",
            "   25 res    8                  26 x  26 x 256   ->    26 x  26 x 128\n",
            "   26 conv     24  1 x 1 / 1    26 x  26 x 128   ->    26 x  26 x  24  0.004 BFLOPs\n",
            "   27 yolo\n",
            "Loading weights from yolov3-tiny.weights...Done!\n",
            "Saving weights to yolov3-tiny.conv.15\n"
          ],
          "name": "stdout"
        }
      ]
    },
    {
      "cell_type": "code",
      "metadata": {
        "id": "DzphrMsBWQHA",
        "colab_type": "code",
        "outputId": "454e8606-f28b-4963-d2fc-04cdf0c198cd",
        "colab": {
          "base_uri": "https://localhost:8080/",
          "height": 573
        }
      },
      "source": [
        "# Train YOLO\n",
        "% cd /mydrive/YOLO_toolkit/darknet\n",
        "! chmod 777 ./darknet\n",
        "! ./darknet detector train /mydrive/YOLO_toolkit/darknet_files/yolo.data /mydrive/YOLO_toolkit/darknet_files/yolov3tiny_train.cfg ./yolov3-tiny.conv.15 > /mydrive/YOLO_toolkit/temp_train.log\n"
      ],
      "execution_count": 29,
      "outputs": [
        {
          "output_type": "stream",
          "text": [
            "/content/gdrive/My Drive/colab_notebooks/YOLO_toolkit/darknet\n",
            "layer     filters    size              input                output\n",
            "    0 conv     16  3 x 3 / 1   416 x 416 x   3   ->   416 x 416 x  16  0.150 BFLOPs\n",
            "    1 max          2 x 2 / 2   416 x 416 x  16   ->   208 x 208 x  16\n",
            "    2 conv     32  3 x 3 / 1   208 x 208 x  16   ->   208 x 208 x  32  0.399 BFLOPs\n",
            "    3 max          2 x 2 / 2   208 x 208 x  32   ->   104 x 104 x  32\n",
            "    4 conv     64  3 x 3 / 1   104 x 104 x  32   ->   104 x 104 x  64  0.399 BFLOPs\n",
            "    5 max          2 x 2 / 2   104 x 104 x  64   ->    52 x  52 x  64\n",
            "    6 conv    128  3 x 3 / 1    52 x  52 x  64   ->    52 x  52 x 128  0.399 BFLOPs\n",
            "    7 max          2 x 2 / 2    52 x  52 x 128   ->    26 x  26 x 128\n",
            "    8 conv    256  3 x 3 / 1    26 x  26 x 128   ->    26 x  26 x 256  0.399 BFLOPs\n",
            "    9 max          2 x 2 / 2    26 x  26 x 256   ->    13 x  13 x 256\n",
            "   10 conv    512  3 x 3 / 1    13 x  13 x 256   ->    13 x  13 x 512  0.399 BFLOPs\n",
            "   11 max          2 x 2 / 1    13 x  13 x 512   ->    13 x  13 x 512\n",
            "   12 conv    512  3 x 3 / 1    13 x  13 x 512   ->    13 x  13 x 512  0.797 BFLOPs\n",
            "   13 res   10                  13 x  13 x 512   ->    13 x  13 x 512\n",
            "   14 conv    256  1 x 1 / 1    13 x  13 x 512   ->    13 x  13 x 256  0.044 BFLOPs\n",
            "   15 conv    256  3 x 3 / 1    13 x  13 x 256   ->    13 x  13 x 256  0.199 BFLOPs\n",
            "   16 res   14                  13 x  13 x 256   ->    13 x  13 x 256\n",
            "   17 conv     24  1 x 1 / 1    13 x  13 x 256   ->    13 x  13 x  24  0.002 BFLOPs\n",
            "   18 yolo\n",
            "   19 route  15\n",
            "   20 conv    128  1 x 1 / 1    13 x  13 x 256   ->    13 x  13 x 128  0.011 BFLOPs\n",
            "   21 upsample            2x    13 x  13 x 128   ->    26 x  26 x 128\n",
            "   22 res    8                  26 x  26 x 256   ->    26 x  26 x 128\n",
            "   23 conv    128  3 x 3 / 1    26 x  26 x 128   ->    26 x  26 x 128  0.199 BFLOPs\n",
            "   24 res   21                  26 x  26 x 128   ->    26 x  26 x 128\n",
            "   25 res    8                  26 x  26 x 256   ->    26 x  26 x 128\n",
            "   26 conv     24  1 x 1 / 1    26 x  26 x 128   ->    26 x  26 x  24  0.004 BFLOPs\n",
            "   27 yolo\n",
            "Loading weights from ./yolov3-tiny.conv.15...Done!\n",
            "^C\n"
          ],
          "name": "stdout"
        }
      ]
    },
    {
      "cell_type": "code",
      "metadata": {
        "id": "qZUBPKW3IfY8",
        "colab_type": "code",
        "outputId": "59cfb3f2-5e02-4c6e-cd39-782a17cd06dd",
        "colab": {
          "base_uri": "https://localhost:8080/",
          "height": 642
        }
      },
      "source": [
        "# Predict\n",
        "% cd /mydrive/YOLO_toolkit/darknet\n",
        "! chmod 777 ./darknet\n",
        "!./darknet detector test /mydrive/YOLO_toolkit/darknet-tiny-yolo.data /mydrive/YOLO_toolkit/yolov3-tiny-prn-predict.cfg /mydrive/YOLO_toolkit/tiny_yolo_weights/yolov3-tiny-prn_final.weights /mydrive/YOLO_toolkit/test_images/cough.jpg"
      ],
      "execution_count": 0,
      "outputs": [
        {
          "output_type": "stream",
          "text": [
            "/content/gdrive/My Drive/colab_notebooks/YOLO_toolkit/darknet\n",
            "layer     filters    size              input                output\n",
            "    0 conv     16  3 x 3 / 1   416 x 416 x   3   ->   416 x 416 x  16  0.150 BFLOPs\n",
            "    1 max          2 x 2 / 2   416 x 416 x  16   ->   208 x 208 x  16\n",
            "    2 conv     32  3 x 3 / 1   208 x 208 x  16   ->   208 x 208 x  32  0.399 BFLOPs\n",
            "    3 max          2 x 2 / 2   208 x 208 x  32   ->   104 x 104 x  32\n",
            "    4 conv     64  3 x 3 / 1   104 x 104 x  32   ->   104 x 104 x  64  0.399 BFLOPs\n",
            "    5 max          2 x 2 / 2   104 x 104 x  64   ->    52 x  52 x  64\n",
            "    6 conv    128  3 x 3 / 1    52 x  52 x  64   ->    52 x  52 x 128  0.399 BFLOPs\n",
            "    7 max          2 x 2 / 2    52 x  52 x 128   ->    26 x  26 x 128\n",
            "    8 conv    256  3 x 3 / 1    26 x  26 x 128   ->    26 x  26 x 256  0.399 BFLOPs\n",
            "    9 max          2 x 2 / 2    26 x  26 x 256   ->    13 x  13 x 256\n",
            "   10 conv    512  3 x 3 / 1    13 x  13 x 256   ->    13 x  13 x 512  0.399 BFLOPs\n",
            "   11 max          2 x 2 / 1    13 x  13 x 512   ->    13 x  13 x 512\n",
            "   12 conv    512  3 x 3 / 1    13 x  13 x 512   ->    13 x  13 x 512  0.797 BFLOPs\n",
            "   13 res   10                  13 x  13 x 512   ->    13 x  13 x 512\n",
            "   14 conv    256  1 x 1 / 1    13 x  13 x 512   ->    13 x  13 x 256  0.044 BFLOPs\n",
            "   15 conv    256  3 x 3 / 1    13 x  13 x 256   ->    13 x  13 x 256  0.199 BFLOPs\n",
            "   16 res   14                  13 x  13 x 256   ->    13 x  13 x 256\n",
            "   17 conv     24  1 x 1 / 1    13 x  13 x 256   ->    13 x  13 x  24  0.002 BFLOPs\n",
            "   18 yolo\n",
            "   19 route  15\n",
            "   20 conv    128  1 x 1 / 1    13 x  13 x 256   ->    13 x  13 x 128  0.011 BFLOPs\n",
            "   21 upsample            2x    13 x  13 x 128   ->    26 x  26 x 128\n",
            "   22 res    8                  26 x  26 x 256   ->    26 x  26 x 128\n",
            "   23 conv    128  3 x 3 / 1    26 x  26 x 128   ->    26 x  26 x 128  0.199 BFLOPs\n",
            "   24 res   21                  26 x  26 x 128   ->    26 x  26 x 128\n",
            "   25 res    8                  26 x  26 x 256   ->    26 x  26 x 128\n",
            "   26 conv     24  1 x 1 / 1    26 x  26 x 128   ->    26 x  26 x  24  0.004 BFLOPs\n",
            "   27 yolo\n",
            "Loading weights from /mydrive/YOLO_toolkit/tiny_yolo_weights/yolov3-tiny-prn_final.weights...Done!\n",
            "/mydrive/YOLO_toolkit/test_images/cough.jpg: Predicted in 0.002876 seconds.\n",
            "Medical mask: 95%\n",
            "Unable to init server: Could not connect: Connection refused\n",
            "\n",
            "(predictions:597): Gtk-\u001b[1;33mWARNING\u001b[0m **: \u001b[34m19:33:41.383\u001b[0m: cannot open display: \n"
          ],
          "name": "stdout"
        }
      ]
    },
    {
      "cell_type": "code",
      "metadata": {
        "id": "VYCu6LC89eWg",
        "colab_type": "code",
        "colab": {}
      },
      "source": [
        "# def imShow(path):\n",
        "#   image = cv2.imread(path)\n",
        "#   height, width = image.shape[:2]\n",
        "#   resized_image = cv2.resize(image,(3*width, 3*height), interpolation = cv2.INTER_CUBIC)\n",
        "\n",
        "#   cv2.imshow(cv2.cvtColor(resized_image, cv2.COLOR_BGR2RGB))"
      ],
      "execution_count": 0,
      "outputs": []
    }
  ]
}