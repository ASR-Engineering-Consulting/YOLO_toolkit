{
  "nbformat": 4,
  "nbformat_minor": 0,
  "metadata": {
    "colab": {
      "name": "2)TrainCustomYOLOweights_pjreddie.ipynb",
      "provenance": [],
      "collapsed_sections": [],
      "authorship_tag": "ABX9TyMl0tI6w1XQjUUa1WxYEtcL",
      "include_colab_link": true
    },
    "kernelspec": {
      "name": "python3",
      "display_name": "Python 3"
    },
    "accelerator": "GPU"
  },
  "cells": [
    {
      "cell_type": "markdown",
      "metadata": {
        "id": "view-in-github",
        "colab_type": "text"
      },
      "source": [
        "<a href=\"https://colab.research.google.com/github/Gooogr/YOLO_toolkit/blob/master/2)TrainCustomYOLOweights_pjreddie.ipynb\" target=\"_parent\"><img src=\"https://colab.research.google.com/assets/colab-badge.svg\" alt=\"Open In Colab\"/></a>"
      ]
    },
    {
      "cell_type": "code",
      "metadata": {
        "id": "yxhHHrLg1A8S",
        "colab_type": "code",
        "colab": {}
      },
      "source": [
        " import cv2"
      ],
      "execution_count": 0,
      "outputs": []
    },
    {
      "cell_type": "code",
      "metadata": {
        "id": "gx74SWo7nRbG",
        "colab_type": "code",
        "outputId": "764c583b-436c-4788-c471-488f27cac35b",
        "colab": {
          "base_uri": "https://localhost:8080/",
          "height": 312
        }
      },
      "source": [
        "# Enable GPU\n",
        "# Check what we get: K80, P100, K4 or T4.\n",
        "! nvidia-smi"
      ],
      "execution_count": 0,
      "outputs": [
        {
          "output_type": "stream",
          "text": [
            "Mon May 25 14:46:14 2020       \n",
            "+-----------------------------------------------------------------------------+\n",
            "| NVIDIA-SMI 440.82       Driver Version: 418.67       CUDA Version: 10.1     |\n",
            "|-------------------------------+----------------------+----------------------+\n",
            "| GPU  Name        Persistence-M| Bus-Id        Disp.A | Volatile Uncorr. ECC |\n",
            "| Fan  Temp  Perf  Pwr:Usage/Cap|         Memory-Usage | GPU-Util  Compute M. |\n",
            "|===============================+======================+======================|\n",
            "|   0  Tesla K80           Off  | 00000000:00:04.0 Off |                    0 |\n",
            "| N/A   30C    P8    29W / 149W |      0MiB / 11441MiB |      0%      Default |\n",
            "+-------------------------------+----------------------+----------------------+\n",
            "                                                                               \n",
            "+-----------------------------------------------------------------------------+\n",
            "| Processes:                                                       GPU Memory |\n",
            "|  GPU       PID   Type   Process name                             Usage      |\n",
            "|=============================================================================|\n",
            "|  No running processes found                                                 |\n",
            "+-----------------------------------------------------------------------------+\n"
          ],
          "name": "stdout"
        }
      ]
    },
    {
      "cell_type": "code",
      "metadata": {
        "id": "pmt2bWugAk7g",
        "colab_type": "code",
        "colab": {}
      },
      "source": [
        "# mount google disk\n",
        "from google.colab import drive\n",
        "drive.mount('/content/gdrive')\n",
        "\n",
        "# create a symbolic sub-link to avoid 'space' problem\n",
        "!ln -s /content/gdrive/My\\ Drive/colab_notebooks/ /mydrive"
      ],
      "execution_count": 0,
      "outputs": []
    },
    {
      "cell_type": "markdown",
      "metadata": {
        "id": "lMv3KtBbii0U",
        "colab_type": "text"
      },
      "source": [
        "#### DarkNet preparations"
      ]
    },
    {
      "cell_type": "code",
      "metadata": {
        "id": "9aNHzCxyAmFA",
        "colab_type": "code",
        "outputId": "9b5a6061-f3e9-444d-805c-4a6831a96c19",
        "colab": {
          "base_uri": "https://localhost:8080/",
          "height": 34
        }
      },
      "source": [
        "% cd /mydrive/YOLO_toolkit"
      ],
      "execution_count": 0,
      "outputs": [
        {
          "output_type": "stream",
          "text": [
            "/content/gdrive/My Drive/colab_notebooks/YOLO_toolkit\n"
          ],
          "name": "stdout"
        }
      ]
    },
    {
      "cell_type": "code",
      "metadata": {
        "id": "h5G0GVLEIahq",
        "colab_type": "code",
        "colab": {}
      },
      "source": [
        "def make_darknet():\n",
        "  '''\n",
        "  Run this function if darknet wasn`t setted up your root project folder\n",
        "  '''\n",
        "  # Clone and  make darknet in My Drive folder. We should prepare all config files there befory copy them to tmp\n",
        "  ! git clone https://github.com/pjreddie/darknet\n",
        "\n",
        "  # Enable GPU learning\n",
        "  %cd darknet\n",
        "  !sed -i 's/OPENCV=0/OPENCV=1/' Makefile\n",
        "  !sed -i 's/GPU=0/GPU=1/' Makefile\n",
        "  !sed -i 's/CUDNN=0/CUDNN=1/' Makefile\n",
        "\n",
        "  # verify CUDA\n",
        "  !/usr/local/cuda/bin/nvcc --version\n",
        "\n",
        "  ! make\n",
        "\n",
        "  # Download pre-trainded darknet model weights\n",
        "  ! wget https://pjreddie.com/media/files/darknet53.conv.74\n",
        "\n",
        "  # Download pre-trained tiny yolo weights for further extraction\n",
        "  ! wget https://pjreddie.com/media/files/yolov3-tiny.weights"
      ],
      "execution_count": 0,
      "outputs": []
    },
    {
      "cell_type": "code",
      "metadata": {
        "id": "JZCCkTBQJEl-",
        "colab_type": "code",
        "colab": {}
      },
      "source": [
        "## Uncomment to make absense darknet from scratch \n",
        "# make_darknet()"
      ],
      "execution_count": 0,
      "outputs": []
    },
    {
      "cell_type": "markdown",
      "metadata": {
        "id": "1e4BIJR0HPPc",
        "colab_type": "text"
      },
      "source": [
        "Also you can edit some code in examples/detector.c. For example change saving weights rules:\n",
        "\n",
        "Line 139\n",
        "```\n",
        "if(i%10000==0 || (i < 1000 && i%100 == 0)){ \n",
        "  \n",
        "if(i%1000==0 || (i < 2000 && i%200 == 0)){ \n",
        "```\n",
        "\n",
        "Don't forget to ```! make``` darknet after that again."
      ]
    },
    {
      "cell_type": "code",
      "metadata": {
        "id": "He7y5Nl8H18-",
        "colab_type": "code",
        "outputId": "6ae58064-3624-4ec7-f7df-4227a77e4848",
        "colab": {
          "base_uri": "https://localhost:8080/",
          "height": 34
        }
      },
      "source": [
        "# Create empty directiries for saving weights during the training\n",
        "! mkdir /mydrive/YOLO_toolkit/yolo_weights\n"
      ],
      "execution_count": 0,
      "outputs": [
        {
          "output_type": "stream",
          "text": [
            "mkdir: cannot create directory ‘/mydrive/YOLO_toolkit/yolo_weights’: File exists\n"
          ],
          "name": "stdout"
        }
      ]
    },
    {
      "cell_type": "code",
      "metadata": {
        "id": "5Gqql8HbVf7g",
        "colab_type": "code",
        "outputId": "8a36b265-0ca0-4e6f-e741-342e69424ce6",
        "colab": {
          "base_uri": "https://localhost:8080/",
          "height": 34
        }
      },
      "source": [
        "# Create train and test(validate) txt files. Split ratio will be 0.1\n",
        "% cd /mydrive/YOLO_toolkit/\n",
        "! python3 splitTrainAndTest.py /mydrive/YOLO_toolkit/Dataset/"
      ],
      "execution_count": 0,
      "outputs": [
        {
          "output_type": "stream",
          "text": [
            "/content/gdrive/My Drive/colab_notebooks/YOLO_toolkit\n"
          ],
          "name": "stdout"
        }
      ]
    },
    {
      "cell_type": "code",
      "metadata": {
        "id": "xiHsDsdnesUY",
        "colab_type": "code",
        "outputId": "13dec241-a5ce-4626-968b-55a27f3348fe",
        "colab": {
          "base_uri": "https://localhost:8080/",
          "height": 139
        }
      },
      "source": [
        "! ls /mydrive/YOLO_toolkit"
      ],
      "execution_count": 0,
      "outputs": [
        {
          "output_type": "stream",
          "text": [
            "'1)OpenImagesV4Loader.ipynb'\t   splitTrainAndTest.py\n",
            "'2)TrainCustomYOLOweights.ipynb'   temp_train.log\n",
            "'Combine datasets.ipynb'\t   test_images\n",
            " darknet\t\t\t   test.txt\n",
            " darknet_files\t\t\t   train.txt\n",
            " Dataset\t\t\t   VOC2YOLODatasetConverter.py\n",
            " OIDv4_ToolKit\t\t\t   yolo_weights\n"
          ],
          "name": "stdout"
        }
      ]
    },
    {
      "cell_type": "markdown",
      "metadata": {
        "id": "cndlT_fRpjBO",
        "colab_type": "text"
      },
      "source": [
        "Now we have to edit some files. Go to YOLO_toolkit/darknet_files\n",
        "\n",
        "> .cfg files: yolov3_train.cfg/yolov3_predict.cfg or yolov3tiny_train.cfg/yolov3tiny_predict.cfg\n",
        "How to configure them:\n",
        "\n",
        "* Comment/uncomment train/test part for specifying batch and subdivisions parameters\n",
        "* Minimum *maxbatches* = number_of_your_classes * 2000. Of course you can use a bigger values\n",
        "* *steps* = *maxbatches* * 0.8, *maxbatches* * 0.9\n",
        "* *classes* = number_of_your_classes\n",
        "* *filters* = 3 * (*classes*+5)\n",
        "\n",
        "> obj.names\n",
        "\n",
        "Write labels in the same way as in  the classes.txt file. One class - one line. If you make a mistake in the order of the labels, the algorithm will work, but will incorrectly name the detected objects.\n",
        "\n",
        "> yolo.data\n",
        "\n",
        "Specify classes amount. Check pathes to other files but they should be right by default:<br>\n",
        "valid  = /mydrive/YOLO_toolkit/test.txt<br>\n",
        "names = /mydrive/YOLO_toolkit/obj.names<br>\n",
        "backup = /mydrive/YOLO_toolkit/yolo_weights<br>\n",
        "train  = /mydrive/YOLO_toolkit/train.txt<br>"
      ]
    },
    {
      "cell_type": "code",
      "metadata": {
        "id": "f7iQMRD238tW",
        "colab_type": "code",
        "outputId": "dfa53798-64ad-46bc-c446-3d989e73bae9",
        "colab": {
          "base_uri": "https://localhost:8080/",
          "height": 139
        }
      },
      "source": [
        "! ls"
      ],
      "execution_count": 0,
      "outputs": [
        {
          "output_type": "stream",
          "text": [
            "'1)OpenImagesV4Loader.ipynb'\t   splitTrainAndTest.py\n",
            "'2)TrainCustomYOLOweights.ipynb'   temp_train.log\n",
            "'Combine datasets.ipynb'\t   test_images\n",
            " darknet\t\t\t   test.txt\n",
            " darknet_files\t\t\t   train.txt\n",
            " Dataset\t\t\t   VOC2YOLODatasetConverter.py\n",
            " OIDv4_ToolKit\t\t\t   yolo_weights\n"
          ],
          "name": "stdout"
        }
      ]
    },
    {
      "cell_type": "code",
      "metadata": {
        "id": "wTHHqRR1J6S4",
        "colab_type": "code",
        "outputId": "4cabea67-8c0c-4ac4-eb05-1eba299623f9",
        "colab": {
          "base_uri": "https://localhost:8080/",
          "height": 52
        }
      },
      "source": [
        "! cat darknet_files/obj.names"
      ],
      "execution_count": 0,
      "outputs": [
        {
          "output_type": "stream",
          "text": [
            "Human face\n",
            "Human hand\n"
          ],
          "name": "stdout"
        }
      ]
    },
    {
      "cell_type": "code",
      "metadata": {
        "id": "vnkODaz3WId-",
        "colab_type": "code",
        "outputId": "908a7e17-4630-4c29-befa-95752cc3736a",
        "colab": {
          "base_uri": "https://localhost:8080/",
          "height": 121
        }
      },
      "source": [
        "! cat darknet_files/yolo.data"
      ],
      "execution_count": 0,
      "outputs": [
        {
          "output_type": "stream",
          "text": [
            "classes = 2\n",
            "valid  = /mydrive/YOLO_toolkit/test.txt\n",
            "names = /mydrive/YOLO_toolkit/darknet_files/obj.names\n",
            "backup = /mydrive/YOLO_toolkit/yolo_weights\n",
            "train  = /mydrive/YOLO_toolkit/train.txt\n",
            "\n"
          ],
          "name": "stdout"
        }
      ]
    },
    {
      "cell_type": "code",
      "metadata": {
        "id": "0nKAIxh_Rgg0",
        "colab_type": "code",
        "outputId": "576789b9-d9b3-429a-863a-c14fb3fb7511",
        "colab": {
          "base_uri": "https://localhost:8080/",
          "height": 503
        }
      },
      "source": [
        "# Get tiny yolo convolutions layers weights\n",
        "% cd /mydrive/YOLO_toolkit/darknet\n",
        "! chmod 777 ./darknet\n",
        "! ./darknet partial /mydrive/YOLO_toolkit/darknet_files/yolov3tiny_train.cfg yolov3-tiny.weights yolov3-tiny.conv.15 15"
      ],
      "execution_count": 0,
      "outputs": [
        {
          "output_type": "stream",
          "text": [
            "/content/gdrive/My Drive/colab_notebooks/YOLO_toolkit/darknet\n",
            "layer     filters    size              input                output\n",
            "    0 conv     16  3 x 3 / 1   416 x 416 x   3   ->   416 x 416 x  16  0.150 BFLOPs\n",
            "    1 max          2 x 2 / 2   416 x 416 x  16   ->   208 x 208 x  16\n",
            "    2 conv     32  3 x 3 / 1   208 x 208 x  16   ->   208 x 208 x  32  0.399 BFLOPs\n",
            "    3 max          2 x 2 / 2   208 x 208 x  32   ->   104 x 104 x  32\n",
            "    4 conv     64  3 x 3 / 1   104 x 104 x  32   ->   104 x 104 x  64  0.399 BFLOPs\n",
            "    5 max          2 x 2 / 2   104 x 104 x  64   ->    52 x  52 x  64\n",
            "    6 conv    128  3 x 3 / 1    52 x  52 x  64   ->    52 x  52 x 128  0.399 BFLOPs\n",
            "    7 max          2 x 2 / 2    52 x  52 x 128   ->    26 x  26 x 128\n",
            "    8 conv    256  3 x 3 / 1    26 x  26 x 128   ->    26 x  26 x 256  0.399 BFLOPs\n",
            "    9 max          2 x 2 / 2    26 x  26 x 256   ->    13 x  13 x 256\n",
            "   10 conv    512  3 x 3 / 1    13 x  13 x 256   ->    13 x  13 x 512  0.399 BFLOPs\n",
            "   11 max          2 x 2 / 1    13 x  13 x 512   ->    13 x  13 x 512\n",
            "   12 conv   1024  3 x 3 / 1    13 x  13 x 512   ->    13 x  13 x1024  1.595 BFLOPs\n",
            "   13 conv    256  1 x 1 / 1    13 x  13 x1024   ->    13 x  13 x 256  0.089 BFLOPs\n",
            "   14 conv    512  3 x 3 / 1    13 x  13 x 256   ->    13 x  13 x 512  0.399 BFLOPs\n",
            "   15 conv     21  1 x 1 / 1    13 x  13 x 512   ->    13 x  13 x  21  0.004 BFLOPs\n",
            "   16 yolo\n",
            "   17 route  13\n",
            "   18 conv    128  1 x 1 / 1    13 x  13 x 256   ->    13 x  13 x 128  0.011 BFLOPs\n",
            "   19 upsample            2x    13 x  13 x 128   ->    26 x  26 x 128\n",
            "   20 route  19 8\n",
            "   21 conv    256  3 x 3 / 1    26 x  26 x 384   ->    26 x  26 x 256  1.196 BFLOPs\n",
            "   22 conv     21  1 x 1 / 1    26 x  26 x 256   ->    26 x  26 x  21  0.007 BFLOPs\n",
            "   23 yolo\n",
            "Loading weights from yolov3-tiny.weights...Done!\n",
            "Saving weights to yolov3-tiny.conv.15\n"
          ],
          "name": "stdout"
        }
      ]
    },
    {
      "cell_type": "code",
      "metadata": {
        "id": "DzphrMsBWQHA",
        "colab_type": "code",
        "outputId": "53ddea83-fbc3-49da-c2f1-c27865ec3a46",
        "colab": {
          "base_uri": "https://localhost:8080/",
          "height": 1000
        }
      },
      "source": [
        "# Train YOLO\n",
        "% cd /mydrive/YOLO_toolkit/darknet\n",
        "! chmod 777 ./darknet\n",
        "! ./darknet detector train /mydrive/YOLO_toolkit/darknet_files/yolo.data /mydrive/YOLO_toolkit/darknet_files/yolov3tiny_train.cfg ./yolov3-tiny.conv.15 > /mydrive/YOLO_toolkit/temp_train.log\n"
      ],
      "execution_count": 0,
      "outputs": [
        {
          "output_type": "stream",
          "text": [
            "/content/gdrive/My Drive/colab_notebooks/YOLO_toolkit/darknet\n",
            "layer     filters    size              input                output\n",
            "    0 conv     16  3 x 3 / 1   416 x 416 x   3   ->   416 x 416 x  16  0.150 BFLOPs\n",
            "    1 max          2 x 2 / 2   416 x 416 x  16   ->   208 x 208 x  16\n",
            "    2 conv     32  3 x 3 / 1   208 x 208 x  16   ->   208 x 208 x  32  0.399 BFLOPs\n",
            "    3 max          2 x 2 / 2   208 x 208 x  32   ->   104 x 104 x  32\n",
            "    4 conv     64  3 x 3 / 1   104 x 104 x  32   ->   104 x 104 x  64  0.399 BFLOPs\n",
            "    5 max          2 x 2 / 2   104 x 104 x  64   ->    52 x  52 x  64\n",
            "    6 conv    128  3 x 3 / 1    52 x  52 x  64   ->    52 x  52 x 128  0.399 BFLOPs\n",
            "    7 max          2 x 2 / 2    52 x  52 x 128   ->    26 x  26 x 128\n",
            "    8 conv    256  3 x 3 / 1    26 x  26 x 128   ->    26 x  26 x 256  0.399 BFLOPs\n",
            "    9 max          2 x 2 / 2    26 x  26 x 256   ->    13 x  13 x 256\n",
            "   10 conv    512  3 x 3 / 1    13 x  13 x 256   ->    13 x  13 x 512  0.399 BFLOPs\n",
            "   11 max          2 x 2 / 1    13 x  13 x 512   ->    13 x  13 x 512\n",
            "   12 conv   1024  3 x 3 / 1    13 x  13 x 512   ->    13 x  13 x1024  1.595 BFLOPs\n",
            "   13 conv    256  1 x 1 / 1    13 x  13 x1024   ->    13 x  13 x 256  0.089 BFLOPs\n",
            "   14 conv    512  3 x 3 / 1    13 x  13 x 256   ->    13 x  13 x 512  0.399 BFLOPs\n",
            "   15 conv     21  1 x 1 / 1    13 x  13 x 512   ->    13 x  13 x  21  0.004 BFLOPs\n",
            "   16 yolo\n",
            "   17 route  13\n",
            "   18 conv    128  1 x 1 / 1    13 x  13 x 256   ->    13 x  13 x 128  0.011 BFLOPs\n",
            "   19 upsample            2x    13 x  13 x 128   ->    26 x  26 x 128\n",
            "   20 route  19 8\n",
            "   21 conv    256  3 x 3 / 1    26 x  26 x 384   ->    26 x  26 x 256  1.196 BFLOPs\n",
            "   22 conv     21  1 x 1 / 1    26 x  26 x 256   ->    26 x  26 x  21  0.007 BFLOPs\n",
            "   23 yolo\n",
            "Loading weights from ./yolov3-tiny.conv.15...Done!\n",
            "Saving weights to /mydrive/YOLO_toolkit/yolo_weights/yolov3tiny_train.backup\n",
            "Saving weights to /mydrive/YOLO_toolkit/yolo_weights/yolov3tiny_train_100.weights\n",
            "Saving weights to /mydrive/YOLO_toolkit/yolo_weights/yolov3tiny_train.backup\n",
            "Saving weights to /mydrive/YOLO_toolkit/yolo_weights/yolov3tiny_train_200.weights\n",
            "Saving weights to /mydrive/YOLO_toolkit/yolo_weights/yolov3tiny_train.backup\n",
            "Saving weights to /mydrive/YOLO_toolkit/yolo_weights/yolov3tiny_train_300.weights\n",
            "Saving weights to /mydrive/YOLO_toolkit/yolo_weights/yolov3tiny_train.backup\n",
            "Saving weights to /mydrive/YOLO_toolkit/yolo_weights/yolov3tiny_train_400.weights\n",
            "Saving weights to /mydrive/YOLO_toolkit/yolo_weights/yolov3tiny_train.backup\n",
            "Saving weights to /mydrive/YOLO_toolkit/yolo_weights/yolov3tiny_train_500.weights\n",
            "Saving weights to /mydrive/YOLO_toolkit/yolo_weights/yolov3tiny_train.backup\n",
            "Saving weights to /mydrive/YOLO_toolkit/yolo_weights/yolov3tiny_train_600.weights\n",
            "Saving weights to /mydrive/YOLO_toolkit/yolo_weights/yolov3tiny_train.backup\n",
            "Saving weights to /mydrive/YOLO_toolkit/yolo_weights/yolov3tiny_train_700.weights\n",
            "Saving weights to /mydrive/YOLO_toolkit/yolo_weights/yolov3tiny_train.backup\n",
            "Saving weights to /mydrive/YOLO_toolkit/yolo_weights/yolov3tiny_train_800.weights\n",
            "Saving weights to /mydrive/YOLO_toolkit/yolo_weights/yolov3tiny_train.backup\n",
            "Saving weights to /mydrive/YOLO_toolkit/yolo_weights/yolov3tiny_train_900.weights\n",
            "Saving weights to /mydrive/YOLO_toolkit/yolo_weights/yolov3tiny_train.backup\n",
            "Saving weights to /mydrive/YOLO_toolkit/yolo_weights/yolov3tiny_train.backup\n",
            "Saving weights to /mydrive/YOLO_toolkit/yolo_weights/yolov3tiny_train.backup\n",
            "Saving weights to /mydrive/YOLO_toolkit/yolo_weights/yolov3tiny_train.backup\n",
            "Saving weights to /mydrive/YOLO_toolkit/yolo_weights/yolov3tiny_train.backup\n",
            "Saving weights to /mydrive/YOLO_toolkit/yolo_weights/yolov3tiny_train.backup\n",
            "Saving weights to /mydrive/YOLO_toolkit/yolo_weights/yolov3tiny_train.backup\n",
            "Saving weights to /mydrive/YOLO_toolkit/yolo_weights/yolov3tiny_train.backup\n",
            "Saving weights to /mydrive/YOLO_toolkit/yolo_weights/yolov3tiny_train.backup\n",
            "Saving weights to /mydrive/YOLO_toolkit/yolo_weights/yolov3tiny_train.backup\n",
            "Saving weights to /mydrive/YOLO_toolkit/yolo_weights/yolov3tiny_train.backup\n",
            "Saving weights to /mydrive/YOLO_toolkit/yolo_weights/yolov3tiny_train.backup\n",
            "Saving weights to /mydrive/YOLO_toolkit/yolo_weights/yolov3tiny_train.backup\n",
            "Saving weights to /mydrive/YOLO_toolkit/yolo_weights/yolov3tiny_train.backup\n",
            "Saving weights to /mydrive/YOLO_toolkit/yolo_weights/yolov3tiny_train.backup\n",
            "Saving weights to /mydrive/YOLO_toolkit/yolo_weights/yolov3tiny_train.backup\n",
            "Saving weights to /mydrive/YOLO_toolkit/yolo_weights/yolov3tiny_train.backup\n",
            "Saving weights to /mydrive/YOLO_toolkit/yolo_weights/yolov3tiny_train.backup\n",
            "Saving weights to /mydrive/YOLO_toolkit/yolo_weights/yolov3tiny_train.backup\n",
            "Saving weights to /mydrive/YOLO_toolkit/yolo_weights/yolov3tiny_train.backup\n",
            "Saving weights to /mydrive/YOLO_toolkit/yolo_weights/yolov3tiny_train.backup\n",
            "Saving weights to /mydrive/YOLO_toolkit/yolo_weights/yolov3tiny_train.backup\n",
            "Saving weights to /mydrive/YOLO_toolkit/yolo_weights/yolov3tiny_train.backup\n",
            "Saving weights to /mydrive/YOLO_toolkit/yolo_weights/yolov3tiny_train.backup\n",
            "Saving weights to /mydrive/YOLO_toolkit/yolo_weights/yolov3tiny_train.backup\n",
            "Saving weights to /mydrive/YOLO_toolkit/yolo_weights/yolov3tiny_train.backup\n",
            "Saving weights to /mydrive/YOLO_toolkit/yolo_weights/yolov3tiny_train.backup\n",
            "Saving weights to /mydrive/YOLO_toolkit/yolo_weights/yolov3tiny_train.backup\n",
            "Saving weights to /mydrive/YOLO_toolkit/yolo_weights/yolov3tiny_train.backup\n",
            "Saving weights to /mydrive/YOLO_toolkit/yolo_weights/yolov3tiny_train.backup\n",
            "Saving weights to /mydrive/YOLO_toolkit/yolo_weights/yolov3tiny_train.backup\n",
            "Saving weights to /mydrive/YOLO_toolkit/yolo_weights/yolov3tiny_train.backup\n",
            "Saving weights to /mydrive/YOLO_toolkit/yolo_weights/yolov3tiny_train.backup\n",
            "Saving weights to /mydrive/YOLO_toolkit/yolo_weights/yolov3tiny_train.backup\n",
            "Saving weights to /mydrive/YOLO_toolkit/yolo_weights/yolov3tiny_train.backup\n",
            "Saving weights to /mydrive/YOLO_toolkit/yolo_weights/yolov3tiny_train.backup\n",
            "Saving weights to /mydrive/YOLO_toolkit/yolo_weights/yolov3tiny_train.backup\n",
            "Saving weights to /mydrive/YOLO_toolkit/yolo_weights/yolov3tiny_train.backup\n",
            "Saving weights to /mydrive/YOLO_toolkit/yolo_weights/yolov3tiny_train.backup\n",
            "Saving weights to /mydrive/YOLO_toolkit/yolo_weights/yolov3tiny_train.backup\n",
            "Saving weights to /mydrive/YOLO_toolkit/yolo_weights/yolov3tiny_train.backup\n",
            "Saving weights to /mydrive/YOLO_toolkit/yolo_weights/yolov3tiny_train.backup\n",
            "Saving weights to /mydrive/YOLO_toolkit/yolo_weights/yolov3tiny_train.backup\n",
            "Saving weights to /mydrive/YOLO_toolkit/yolo_weights/yolov3tiny_train.backup\n",
            "Saving weights to /mydrive/YOLO_toolkit/yolo_weights/yolov3tiny_train.backup\n",
            "Saving weights to /mydrive/YOLO_toolkit/yolo_weights/yolov3tiny_train.backup\n",
            "Saving weights to /mydrive/YOLO_toolkit/yolo_weights/yolov3tiny_train.backup\n",
            "Saving weights to /mydrive/YOLO_toolkit/yolo_weights/yolov3tiny_train.backup\n",
            "Saving weights to /mydrive/YOLO_toolkit/yolo_weights/yolov3tiny_train.backup\n",
            "Saving weights to /mydrive/YOLO_toolkit/yolo_weights/yolov3tiny_train.backup\n",
            "Saving weights to /mydrive/YOLO_toolkit/yolo_weights/yolov3tiny_train.backup\n",
            "Saving weights to /mydrive/YOLO_toolkit/yolo_weights/yolov3tiny_train_final.weights\n"
          ],
          "name": "stdout"
        }
      ]
    },
    {
      "cell_type": "code",
      "metadata": {
        "id": "qZUBPKW3IfY8",
        "colab_type": "code",
        "outputId": "be5d3727-3cbf-42c9-a318-a852b8456b51",
        "colab": {
          "base_uri": "https://localhost:8080/",
          "height": 555
        }
      },
      "source": [
        "# Predict\n",
        "% cd /mydrive/YOLO_toolkit/darknet\n",
        "! chmod 777 ./darknet\n",
        "!./darknet detector test /mydrive/YOLO_toolkit/darknet_files/yolo.data /mydrive/YOLO_toolkit/darknet_files/yolov3tiny_predict.cfg /mydrive/YOLO_toolkit/yolo_weights/yolov3tiny_train_final.weights /mydrive/YOLO_toolkit/test_images/crowd.jpg"
      ],
      "execution_count": 0,
      "outputs": [
        {
          "output_type": "stream",
          "text": [
            "/content/gdrive/My Drive/colab_notebooks/YOLO_toolkit/darknet\n",
            "layer     filters    size              input                output\n",
            "    0 conv     16  3 x 3 / 1   416 x 416 x   3   ->   416 x 416 x  16  0.150 BFLOPs\n",
            "    1 max          2 x 2 / 2   416 x 416 x  16   ->   208 x 208 x  16\n",
            "    2 conv     32  3 x 3 / 1   208 x 208 x  16   ->   208 x 208 x  32  0.399 BFLOPs\n",
            "    3 max          2 x 2 / 2   208 x 208 x  32   ->   104 x 104 x  32\n",
            "    4 conv     64  3 x 3 / 1   104 x 104 x  32   ->   104 x 104 x  64  0.399 BFLOPs\n",
            "    5 max          2 x 2 / 2   104 x 104 x  64   ->    52 x  52 x  64\n",
            "    6 conv    128  3 x 3 / 1    52 x  52 x  64   ->    52 x  52 x 128  0.399 BFLOPs\n",
            "    7 max          2 x 2 / 2    52 x  52 x 128   ->    26 x  26 x 128\n",
            "    8 conv    256  3 x 3 / 1    26 x  26 x 128   ->    26 x  26 x 256  0.399 BFLOPs\n",
            "    9 max          2 x 2 / 2    26 x  26 x 256   ->    13 x  13 x 256\n",
            "   10 conv    512  3 x 3 / 1    13 x  13 x 256   ->    13 x  13 x 512  0.399 BFLOPs\n",
            "   11 max          2 x 2 / 1    13 x  13 x 512   ->    13 x  13 x 512\n",
            "   12 conv   1024  3 x 3 / 1    13 x  13 x 512   ->    13 x  13 x1024  1.595 BFLOPs\n",
            "   13 conv    256  1 x 1 / 1    13 x  13 x1024   ->    13 x  13 x 256  0.089 BFLOPs\n",
            "   14 conv    512  3 x 3 / 1    13 x  13 x 256   ->    13 x  13 x 512  0.399 BFLOPs\n",
            "   15 conv     21  1 x 1 / 1    13 x  13 x 512   ->    13 x  13 x  21  0.004 BFLOPs\n",
            "   16 yolo\n",
            "   17 route  13\n",
            "   18 conv    128  1 x 1 / 1    13 x  13 x 256   ->    13 x  13 x 128  0.011 BFLOPs\n",
            "   19 upsample            2x    13 x  13 x 128   ->    26 x  26 x 128\n",
            "   20 route  19 8\n",
            "   21 conv    256  3 x 3 / 1    26 x  26 x 384   ->    26 x  26 x 256  1.196 BFLOPs\n",
            "   22 conv     21  1 x 1 / 1    26 x  26 x 256   ->    26 x  26 x  21  0.007 BFLOPs\n",
            "   23 yolo\n",
            "Loading weights from /mydrive/YOLO_toolkit/yolo_weights/yolov3tiny_train_final.weights...Done!\n",
            "/mydrive/YOLO_toolkit/test_images/crowd.jpg: Predicted in 0.006245 seconds.\n",
            "Unable to init server: Could not connect: Connection refused\n",
            "\n",
            "(predictions:429809): Gtk-\u001b[1;33mWARNING\u001b[0m **: \u001b[34m18:15:47.697\u001b[0m: cannot open display: \n"
          ],
          "name": "stdout"
        }
      ]
    },
    {
      "cell_type": "code",
      "metadata": {
        "id": "VYCu6LC89eWg",
        "colab_type": "code",
        "colab": {}
      },
      "source": [
        "# def imShow(path):\n",
        "#   image = cv2.imread(path)\n",
        "#   height, width = image.shape[:2]\n",
        "#   resized_image = cv2.resize(image,(3*width, 3*height), interpolation = cv2.INTER_CUBIC)\n",
        "\n",
        "#   cv2.imshow(cv2.cvtColor(resized_image, cv2.COLOR_BGR2RGB))"
      ],
      "execution_count": 0,
      "outputs": []
    },
    {
      "cell_type": "code",
      "metadata": {
        "id": "JntmAe9CvlU8",
        "colab_type": "code",
        "colab": {}
      },
      "source": [
        ""
      ],
      "execution_count": 0,
      "outputs": []
    }
  ]
}